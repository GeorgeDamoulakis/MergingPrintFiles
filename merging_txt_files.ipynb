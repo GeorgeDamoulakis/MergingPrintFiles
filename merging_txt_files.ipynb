{
 "cells": [
  {
   "cell_type": "code",
   "execution_count": 1,
   "metadata": {},
   "outputs": [],
   "source": [
    "import numpy as np\n",
    "import time\n",
    "import os\n",
    "from numpy import genfromtxt\n",
    "import pandas as pd"
   ]
  },
  {
   "cell_type": "code",
   "execution_count": 2,
   "metadata": {},
   "outputs": [],
   "source": [
    "def getListOfFiles(dirName):\n",
    "    # create a list of file and sub directories\n",
    "    # names in the given directory\n",
    "    listOfFile = os.listdir(dirName)\n",
    "    allFiles = list()\n",
    "    # Iterate over all the entries\n",
    "    for entry in listOfFile:\n",
    "        # Create full path\n",
    "        fullPath = os.path.join(dirName, entry)\n",
    "        # If entry is a directory then get the list of files in this directory\n",
    "        if os.path.isdir(fullPath):\n",
    "            allFiles = allFiles + getListOfFiles(fullPath)\n",
    "        else:\n",
    "            allFiles.append(fullPath)\n",
    "\n",
    "    return allFiles"
   ]
  },
  {
   "cell_type": "code",
   "execution_count": 3,
   "metadata": {},
   "outputs": [],
   "source": [
    "dirName = 'C:/Users/US02244/OneDrive - nLIGHT, Inc/Desktop/2';\n",
    "filenames = getListOfFiles(dirName)\n",
    "filenames.sort()\n",
    "L = len(filenames) "
   ]
  },
  {
   "cell_type": "code",
   "execution_count": 4,
   "metadata": {},
   "outputs": [
    {
     "data": {
      "text/plain": [
       "101"
      ]
     },
     "execution_count": 4,
     "metadata": {},
     "output_type": "execute_result"
    }
   ],
   "source": [
    "L\n"
   ]
  },
  {
   "cell_type": "code",
   "execution_count": 5,
   "metadata": {},
   "outputs": [
    {
     "name": "stdout",
     "output_type": "stream",
     "text": [
      "C:/Users/US02244/OneDrive - nLIGHT, Inc/Desktop/2\\1087149-0000056#20220917_034554974_PrintFileMerged.txt\n",
      "C:/Users/US02244/OneDrive - nLIGHT, Inc/Desktop/2\\1087149-0003115#20220822_130553556_PrintFileMerged.txt\n",
      "C:/Users/US02244/OneDrive - nLIGHT, Inc/Desktop/2\\1087149-0003116#20220822_130551564_PrintFileMerged.txt\n",
      "C:/Users/US02244/OneDrive - nLIGHT, Inc/Desktop/2\\1087149-0004003#20220916_150809555_PrintFileMerged.txt\n",
      "C:/Users/US02244/OneDrive - nLIGHT, Inc/Desktop/2\\1087149-0004004#20220917_092652062_PrintFileMerged.txt\n",
      "C:/Users/US02244/OneDrive - nLIGHT, Inc/Desktop/2\\1087149-0004006#20220917_063540106_PrintFileMerged.txt\n",
      "C:/Users/US02244/OneDrive - nLIGHT, Inc/Desktop/2\\1087149-0004007#20220916_150807263_PrintFileMerged.txt\n",
      "C:/Users/US02244/OneDrive - nLIGHT, Inc/Desktop/2\\1087149-0004008#20220913_150821667_PrintFileMerged.txt\n",
      "C:/Users/US02244/OneDrive - nLIGHT, Inc/Desktop/2\\1087149-0004008#20220917_230935276_PrintFileMerged.txt\n",
      "C:/Users/US02244/OneDrive - nLIGHT, Inc/Desktop/2\\1087149-0004010#20220917_095632741_PrintFileMerged.txt\n",
      "C:/Users/US02244/OneDrive - nLIGHT, Inc/Desktop/2\\1087149-0004012#20220915_040409719_PrintFileMerged.txt\n",
      "C:/Users/US02244/OneDrive - nLIGHT, Inc/Desktop/2\\1087149-0004013#20220917_092651290_PrintFileMerged.txt\n",
      "C:/Users/US02244/OneDrive - nLIGHT, Inc/Desktop/2\\1087149-0004016#20220913_150746557_PrintFileMerged.txt\n",
      "C:/Users/US02244/OneDrive - nLIGHT, Inc/Desktop/2\\1087149-0004016#20220917_211448112_PrintFileMerged.txt\n",
      "C:/Users/US02244/OneDrive - nLIGHT, Inc/Desktop/2\\1087149-0004017#20220916_141122484_PrintFileMerged.txt\n",
      "C:/Users/US02244/OneDrive - nLIGHT, Inc/Desktop/2\\1087149-0004018#20220913_150744207_PrintFileMerged.txt\n",
      "C:/Users/US02244/OneDrive - nLIGHT, Inc/Desktop/2\\1087149-0004021#20220913_150816078_PrintFileMerged.txt\n",
      "C:/Users/US02244/OneDrive - nLIGHT, Inc/Desktop/2\\1087149-0004021#20220917_185610899_PrintFileMerged.txt\n",
      "C:/Users/US02244/OneDrive - nLIGHT, Inc/Desktop/2\\1087149-0004022#20220916_141124804_PrintFileMerged.txt\n",
      "C:/Users/US02244/OneDrive - nLIGHT, Inc/Desktop/2\\1087149-0004026#20220917_034556962_PrintFileMerged.txt\n",
      "C:/Users/US02244/OneDrive - nLIGHT, Inc/Desktop/2\\1087149-0004029#20220914_054130674_PrintFileMerged.txt\n",
      "C:/Users/US02244/OneDrive - nLIGHT, Inc/Desktop/2\\1087149-0004030#20220917_034655997_PrintFileMerged.txt\n",
      "C:/Users/US02244/OneDrive - nLIGHT, Inc/Desktop/2\\1087149-0004035#20220917_141459907_PrintFileMerged.txt\n",
      "C:/Users/US02244/OneDrive - nLIGHT, Inc/Desktop/2\\1087149-0004039#20220908_115848419_PrintFileMerged.txt\n",
      "C:/Users/US02244/OneDrive - nLIGHT, Inc/Desktop/2\\1087149-0004039#20220915_140451794_PrintFileMerged.txt\n",
      "C:/Users/US02244/OneDrive - nLIGHT, Inc/Desktop/2\\1087149-0004040#20220917_150628753_PrintFileMerged.txt\n",
      "C:/Users/US02244/OneDrive - nLIGHT, Inc/Desktop/2\\1087149-0004041#20220914_205909438_PrintFileMerged.txt\n",
      "C:/Users/US02244/OneDrive - nLIGHT, Inc/Desktop/2\\1087149-0004042#20220917_211452822_PrintFileMerged.txt\n",
      "C:/Users/US02244/OneDrive - nLIGHT, Inc/Desktop/2\\1087149-0004043#20220917_185607256_PrintFileMerged.txt\n",
      "C:/Users/US02244/OneDrive - nLIGHT, Inc/Desktop/2\\1087149-0004045#20220916_141429792_PrintFileMerged.txt\n",
      "C:/Users/US02244/OneDrive - nLIGHT, Inc/Desktop/2\\1087149-0004049#20220917_150630666_PrintFileMerged.txt\n",
      "C:/Users/US02244/OneDrive - nLIGHT, Inc/Desktop/2\\1087149-0004050#20220908_232855653_PrintFileMerged.txt\n",
      "C:/Users/US02244/OneDrive - nLIGHT, Inc/Desktop/2\\1087149-0004050#20220917_034552004_PrintFileMerged.txt\n",
      "C:/Users/US02244/OneDrive - nLIGHT, Inc/Desktop/2\\1087149-0004053#20220913_150748491_PrintFileMerged.txt\n",
      "C:/Users/US02244/OneDrive - nLIGHT, Inc/Desktop/2\\1087149-0004056#20220908_232859947_PrintFileMerged.txt\n",
      "C:/Users/US02244/OneDrive - nLIGHT, Inc/Desktop/2\\1087149-0004056#20220915_040411680_PrintFileMerged.txt\n",
      "C:/Users/US02244/OneDrive - nLIGHT, Inc/Desktop/2\\1087149-0004057#20220917_185503990_PrintFileMerged.txt\n",
      "C:/Users/US02244/OneDrive - nLIGHT, Inc/Desktop/2\\1087149-0004059#20220914_054134521_PrintFileMerged.txt\n",
      "C:/Users/US02244/OneDrive - nLIGHT, Inc/Desktop/2\\1087149-0004059#20220914_081116387_PrintFileMerged.txt\n",
      "C:/Users/US02244/OneDrive - nLIGHT, Inc/Desktop/2\\1087149-0004061#20220914_211444141_PrintFileMerged.txt\n",
      "C:/Users/US02244/OneDrive - nLIGHT, Inc/Desktop/2\\1087149-0004062#20220914_211442002_PrintFileMerged.txt\n",
      "C:/Users/US02244/OneDrive - nLIGHT, Inc/Desktop/2\\1087149-0004063#20220914_211446042_PrintFileMerged.txt\n",
      "C:/Users/US02244/OneDrive - nLIGHT, Inc/Desktop/2\\1087149-0004064#20220914_054132596_PrintFileMerged.txt\n",
      "C:/Users/US02244/OneDrive - nLIGHT, Inc/Desktop/2\\1087149-0004066#20220909_010200825_PrintFileMerged.txt\n",
      "C:/Users/US02244/OneDrive - nLIGHT, Inc/Desktop/2\\1087149-0004066#20220915_140423726_PrintFileMerged.txt\n",
      "C:/Users/US02244/OneDrive - nLIGHT, Inc/Desktop/2\\1087149-0004067#20220908_115846228_PrintFileMerged.txt\n",
      "C:/Users/US02244/OneDrive - nLIGHT, Inc/Desktop/2\\1087149-0004067#20220916_162804124_PrintFileMerged.txt\n",
      "C:/Users/US02244/OneDrive - nLIGHT, Inc/Desktop/2\\1087149-0004068#20220909_000243365_PrintFileMerged.txt\n",
      "C:/Users/US02244/OneDrive - nLIGHT, Inc/Desktop/2\\1087149-0004068#20220915_040413581_PrintFileMerged.txt\n",
      "C:/Users/US02244/OneDrive - nLIGHT, Inc/Desktop/2\\1087149-0004069#20220916_162806444_PrintFileMerged.txt\n",
      "C:/Users/US02244/OneDrive - nLIGHT, Inc/Desktop/2\\1087149-0004070#20220914_081118417_PrintFileMerged.txt\n",
      "C:/Users/US02244/OneDrive - nLIGHT, Inc/Desktop/2\\1087149-0004072#20220908_210337262_PrintFileMerged.txt\n",
      "C:/Users/US02244/OneDrive - nLIGHT, Inc/Desktop/2\\1087149-0004072#20220915_140449574_PrintFileMerged.txt\n",
      "C:/Users/US02244/OneDrive - nLIGHT, Inc/Desktop/2\\1087149-0004077#20220914_205910056_PrintFileMerged.txt\n",
      "C:/Users/US02244/OneDrive - nLIGHT, Inc/Desktop/2\\1087149-0004078#20220917_185609495_PrintFileMerged.txt\n",
      "C:/Users/US02244/OneDrive - nLIGHT, Inc/Desktop/2\\1087149-0004079#20220908_111404372_PrintFileMerged.txt\n",
      "C:/Users/US02244/OneDrive - nLIGHT, Inc/Desktop/2\\1087149-0004079#20220916_162808297_PrintFileMerged.txt\n",
      "C:/Users/US02244/OneDrive - nLIGHT, Inc/Desktop/2\\1087149-0004080#20220916_141425685_PrintFileMerged.txt\n",
      "C:/Users/US02244/OneDrive - nLIGHT, Inc/Desktop/2\\1087149-0004084#20220917_045630485_PrintFileMerged.txt\n",
      "C:/Users/US02244/OneDrive - nLIGHT, Inc/Desktop/2\\1087149-0004085#20220917_211451332_PrintFileMerged.txt\n",
      "C:/Users/US02244/OneDrive - nLIGHT, Inc/Desktop/2\\1087149-0004087#20220908_210414020_PrintFileMerged.txt\n",
      "C:/Users/US02244/OneDrive - nLIGHT, Inc/Desktop/2\\1087149-0004087#20220917_045626736_PrintFileMerged.txt\n",
      "C:/Users/US02244/OneDrive - nLIGHT, Inc/Desktop/2\\1087149-0004088#20220913_150819742_PrintFileMerged.txt\n",
      "C:/Users/US02244/OneDrive - nLIGHT, Inc/Desktop/2\\1087149-0004089#20220915_040339506_PrintFileMerged.txt\n",
      "C:/Users/US02244/OneDrive - nLIGHT, Inc/Desktop/2\\1087149-0004090#20220917_185501041_PrintFileMerged.txt\n",
      "C:/Users/US02244/OneDrive - nLIGHT, Inc/Desktop/2\\1087149-0004091#20220908_115850339_PrintFileMerged.txt\n",
      "C:/Users/US02244/OneDrive - nLIGHT, Inc/Desktop/2\\1087149-0004092#20220917_141558402_PrintFileMerged.txt\n",
      "C:/Users/US02244/OneDrive - nLIGHT, Inc/Desktop/2\\1087149-0004098#20220916_150805144_PrintFileMerged.txt\n",
      "C:/Users/US02244/OneDrive - nLIGHT, Inc/Desktop/2\\1087149-0004100#20220914_134148522_PrintFileMerged.txt\n",
      "C:/Users/US02244/OneDrive - nLIGHT, Inc/Desktop/2\\1087149-0004100#20220914_174159502_PrintFileMerged.txt\n",
      "C:/Users/US02244/OneDrive - nLIGHT, Inc/Desktop/2\\1087149-0004101#20220914_205912101_PrintFileMerged.txt\n",
      "C:/Users/US02244/OneDrive - nLIGHT, Inc/Desktop/2\\1087149-0004102#20220914_134146287_PrintFileMerged.txt\n",
      "C:/Users/US02244/OneDrive - nLIGHT, Inc/Desktop/2\\1087149-0004103#20220908_210341330_PrintFileMerged.txt\n",
      "C:/Users/US02244/OneDrive - nLIGHT, Inc/Desktop/2\\1087149-0004103#20220915_140421935_PrintFileMerged.txt\n",
      "C:/Users/US02244/OneDrive - nLIGHT, Inc/Desktop/2\\1087149-0004104#20220908_111402481_PrintFileMerged.txt\n",
      "C:/Users/US02244/OneDrive - nLIGHT, Inc/Desktop/2\\1087149-0004104#20220917_034654317_PrintFileMerged.txt\n",
      "C:/Users/US02244/OneDrive - nLIGHT, Inc/Desktop/2\\1087149-0004105#20220908_210411848_PrintFileMerged.txt\n",
      "C:/Users/US02244/OneDrive - nLIGHT, Inc/Desktop/2\\1087149-0004105#20220915_140425718_PrintFileMerged.txt\n",
      "C:/Users/US02244/OneDrive - nLIGHT, Inc/Desktop/2\\1087149-0004106#20220908_210339448_PrintFileMerged.txt\n",
      "C:/Users/US02244/OneDrive - nLIGHT, Inc/Desktop/2\\1087149-0004106#20220914_234240420_PrintFileMerged.txt\n",
      "C:/Users/US02244/OneDrive - nLIGHT, Inc/Desktop/2\\1087149-0004107#20220909_000247678_PrintFileMerged.txt\n",
      "C:/Users/US02244/OneDrive - nLIGHT, Inc/Desktop/2\\1087149-0004107#20220914_225409203_PrintFileMerged.txt\n",
      "C:/Users/US02244/OneDrive - nLIGHT, Inc/Desktop/2\\1087149-0004108#20220909_010202911_PrintFileMerged.txt\n",
      "C:/Users/US02244/OneDrive - nLIGHT, Inc/Desktop/2\\1087149-0004109#20220908_210415844_PrintFileMerged.txt\n",
      "C:/Users/US02244/OneDrive - nLIGHT, Inc/Desktop/2\\1087149-0004109#20220914_225411181_PrintFileMerged.txt\n",
      "C:/Users/US02244/OneDrive - nLIGHT, Inc/Desktop/2\\1087149-0004170#20220917_092649214_PrintFileMerged.txt\n",
      "C:/Users/US02244/OneDrive - nLIGHT, Inc/Desktop/2\\1087149-0004173#20220917_141600459_PrintFileMerged.txt\n",
      "C:/Users/US02244/OneDrive - nLIGHT, Inc/Desktop/2\\1087149-0004176#20220916_141427944_PrintFileMerged.txt\n",
      "C:/Users/US02244/OneDrive - nLIGHT, Inc/Desktop/2\\1087149-0004178#20220916_141126734_PrintFileMerged.txt\n",
      "C:/Users/US02244/OneDrive - nLIGHT, Inc/Desktop/2\\1087149-0004179#20220914_134144530_PrintFileMerged.txt\n",
      "C:/Users/US02244/OneDrive - nLIGHT, Inc/Desktop/2\\1087149-0004191#20220908_123938303_PrintFileMerged.txt\n",
      "C:/Users/US02244/OneDrive - nLIGHT, Inc/Desktop/2\\1087149-0004191#20220917_185459821_PrintFileMerged.txt\n",
      "C:/Users/US02244/OneDrive - nLIGHT, Inc/Desktop/2\\1087149-0004192#20220908_123940657_PrintFileMerged.txt\n",
      "C:/Users/US02244/OneDrive - nLIGHT, Inc/Desktop/2\\1087149-0004192#20220915_040337581_PrintFileMerged.txt\n",
      "C:/Users/US02244/OneDrive - nLIGHT, Inc/Desktop/2\\1087149-0004193#20220908_123942419_PrintFileMerged.txt\n",
      "C:/Users/US02244/OneDrive - nLIGHT, Inc/Desktop/2\\1087149-0004193#20220915_040335289_PrintFileMerged.txt\n",
      "C:/Users/US02244/OneDrive - nLIGHT, Inc/Desktop/2\\1087149-0004194#20220908_134131197_PrintFileMerged.txt\n",
      "C:/Users/US02244/OneDrive - nLIGHT, Inc/Desktop/2\\1087149-0004194#20220908_144505834_PrintFileMerged.txt\n",
      "C:/Users/US02244/OneDrive - nLIGHT, Inc/Desktop/2\\1087149-0004194#20220917_034658346_PrintFileMerged.txt\n",
      "C:/Users/US02244/OneDrive - nLIGHT, Inc/Desktop/2\\1087149-0004195#20220908_144508068_PrintFileMerged.txt\n",
      "C:/Users/US02244/OneDrive - nLIGHT, Inc/Desktop/2\\1087149-0004195#20220917_150632490_PrintFileMerged.txt\n"
     ]
    }
   ],
   "source": [
    "for i in range(L):\n",
    "    print(filenames[i])"
   ]
  },
  {
   "cell_type": "code",
   "execution_count": 6,
   "metadata": {},
   "outputs": [],
   "source": [
    "# Open file3 in write mode\n",
    "with open('merged_file_20221004.txt', 'w') as outfile:\n",
    "  \n",
    "    # Iterate through list\n",
    "    for names in filenames:\n",
    "  \n",
    "        # Open each file in read mode\n",
    "        with open(names) as infile:\n",
    "  \n",
    "            # read the data from file1 and\n",
    "            # file2 and write it in file3\n",
    "            outfile.write(infile.read())\n",
    "  \n",
    "        # Add '\\n' to enter data of file2\n",
    "        # from next line\n",
    "        outfile.write(\"\\n\")"
   ]
  },
  {
   "cell_type": "code",
   "execution_count": null,
   "metadata": {},
   "outputs": [],
   "source": []
  }
 ],
 "metadata": {
  "kernelspec": {
   "display_name": "Python 3",
   "language": "python",
   "name": "python3"
  },
  "language_info": {
   "codemirror_mode": {
    "name": "ipython",
    "version": 3
   },
   "file_extension": ".py",
   "mimetype": "text/x-python",
   "name": "python",
   "nbconvert_exporter": "python",
   "pygments_lexer": "ipython3",
   "version": "3.7.4"
  }
 },
 "nbformat": 4,
 "nbformat_minor": 2
}
